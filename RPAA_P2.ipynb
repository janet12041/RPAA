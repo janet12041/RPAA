{
  "nbformat": 4,
  "nbformat_minor": 0,
  "metadata": {
    "colab": {
      "provenance": [],
      "authorship_tag": "ABX9TyPJJo4kjKW8VhCFxlxypKjo",
      "include_colab_link": true
    },
    "kernelspec": {
      "name": "python3",
      "display_name": "Python 3"
    },
    "language_info": {
      "name": "python"
    }
  },
  "cells": [
    {
      "cell_type": "markdown",
      "metadata": {
        "id": "view-in-github",
        "colab_type": "text"
      },
      "source": [
        "<a href=\"https://colab.research.google.com/github/janet12041/RPAA/blob/main/RPAA_P2.ipynb\" target=\"_parent\"><img src=\"https://colab.research.google.com/assets/colab-badge.svg\" alt=\"Open In Colab\"/></a>"
      ]
    },
    {
      "cell_type": "markdown",
      "source": [
        "# Practica 2: Métricas de evaluación"
      ],
      "metadata": {
        "id": "r0bkOVbzM1-8"
      }
    },
    {
      "cell_type": "markdown",
      "source": [
        "###Janet Illescas Coria"
      ],
      "metadata": {
        "id": "CqDIwp3eNMrB"
      }
    },
    {
      "cell_type": "code",
      "source": [
        "from keras.datasets import mnist\n",
        "import numpy as np\n",
        "\n",
        "(x_train, y_train), (x_test, y_test) = mnist.load_data()\n",
        "\n",
        "# Se obtiene una muestra con igual número de: cincos vs no cincos\n",
        "# para el conjunto de entrenamiento y el de test\n",
        "idx_y_train_5 = np.where(y_train == 5)[0]\n",
        "idx_y_train_n5 = np.where(y_train != 5)[0]\n",
        "idx_y_train_n5 = np.random.choice(idx_y_train_n5, idx_y_train_5.shape[0], replace=False)\n",
        "\n",
        "idx_y_train = np.concatenate([idx_y_train_5, idx_y_train_n5])\n",
        "np.random.shuffle(idx_y_train)\n",
        "\n",
        "x_train = x_train[idx_y_train]\n",
        "y_train = y_train[idx_y_train]\n",
        "\n",
        "idx_y_test_5 = np.where(y_test == 5)[0]\n",
        "idx_y_test_n5 = np.where(y_test != 5)[0]\n",
        "idx_y_test_n5 = np.random.choice(idx_y_test_n5, idx_y_test_5.shape[0], replace=False)\n",
        "\n",
        "idx_y_test = np.concatenate([idx_y_test_5, idx_y_test_n5])\n",
        "np.random.shuffle(idx_y_test)\n",
        "\n",
        "x_test = x_test[idx_y_test]\n",
        "y_test = y_test[idx_y_test]\n",
        "\n",
        "y_train_binary = (y_train == 5).astype(int)\n",
        "y_test_binary = (y_test == 5).astype(int)"
      ],
      "metadata": {
        "id": "ludzvAya4o_5"
      },
      "execution_count": 1,
      "outputs": []
    },
    {
      "cell_type": "code",
      "source": [
        "from keras.models import Sequential\n",
        "from keras.layers import Flatten, Dense\n",
        "from keras.metrics import F1Score\n",
        "\n",
        "def model(x_train, y_train_binary, epochs, batch_size, validation_split):\n",
        "  model = Sequential([\n",
        "    Flatten(input_shape=(28, 28)),\n",
        "    Dense(1)\n",
        "  ])\n",
        "\n",
        "  model.compile(loss='binary_crossentropy', metrics=['accuracy'])\n",
        "  model.fit(x_train, y_train_binary, epochs=epochs, batch_size=batch_size,\n",
        "            validation_split=validation_split)\n",
        "\n",
        "  return model"
      ],
      "metadata": {
        "id": "9uIxSqdk7cU-"
      },
      "execution_count": 2,
      "outputs": []
    },
    {
      "cell_type": "code",
      "source": [
        "from sklearn.metrics import confusion_matrix, \\\n",
        "accuracy_score,precision_score, recall_score,f1_score\n",
        "\n",
        "def metrics(model, x_test, y_test_binary):\n",
        "\n",
        "  y_pred = (model.predict(x_test) >= 0.5).astype(int)[:,0]\n",
        "\n",
        "  accuracy = accuracy_score(y_test_binary, y_pred)\n",
        "  precision = precision_score(y_test_binary, y_pred)\n",
        "  recall = recall_score(y_test_binary, y_pred)\n",
        "  f1_s = f1_score(y_test_binary, y_pred)\n",
        "  precision_0 = precision_score(y_test_binary, y_pred, pos_label=0)\n",
        "  recall_0 = recall_score(y_test_binary, y_pred, pos_label=0)\n",
        "  f1_s_0 = f1_score(y_test_binary, y_pred, pos_label=0)\n",
        "\n",
        "  return accuracy, precision, recall, f1_s, precision_0, recall_0,f1_s_0"
      ],
      "metadata": {
        "id": "fGHrEQXE9sns"
      },
      "execution_count": 3,
      "outputs": []
    },
    {
      "cell_type": "markdown",
      "source": [
        "Realiza al menos 5 entrenamientos y luego informar los promedios de accuracy, precision, recall y F1-score, tanto para la clase 0 como para la clase 1 obtenidos de los entrenamientos para cada una de las siguientes situaciones:"
      ],
      "metadata": {
        "id": "7kduyeef0YdT"
      }
    },
    {
      "cell_type": "code",
      "source": [
        "def repeat_train(model, x_test, y_test_binary, n):\n",
        "  accuracy_l, precision_l, recall_l, f1_s_l  = [], [], [], []\n",
        "  precision_0_l, recall_0_l, f1_s_0_l = [], [], []\n",
        "\n",
        "  for i in range(n):\n",
        "    accuracy, precision, recall, f1_s, precision_0, recall_0, f1_s_0 = metrics(model, x_test, y_test_binary)\n",
        "    accuracy_l.append(accuracy)\n",
        "    precision_l.append(precision)\n",
        "    recall_l.append(recall)\n",
        "    f1_s_l.append(f1_s)\n",
        "    precision_0_l.append(precision_0)\n",
        "    recall_0_l.append(recall_0)\n",
        "    f1_s_0_l.append(f1_s_0)\n",
        "\n",
        "  print()\n",
        "  print(\"Accuracy: \", np.mean(accuracy_l))\n",
        "  print(\"Precision_1: \", np.mean(precision_l))\n",
        "  print(\"Recall_1: \", np.mean(recall_l))\n",
        "  print(\"F1-score_1: \", np.mean(f1_s_l))\n",
        "  print(\"Precision_0: \", np.mean(precision_0_l))\n",
        "  print(\"Recall_0: \", np.mean(recall_0_l))\n",
        "  print(\"F1-score_0: \", np.mean(f1_s_0_l))\n"
      ],
      "metadata": {
        "id": "d3-_1KzlK9Ex"
      },
      "execution_count": 4,
      "outputs": []
    },
    {
      "cell_type": "markdown",
      "source": [
        "1. epochs = 4, batchsize = 2000, validation split = 0.9"
      ],
      "metadata": {
        "id": "wAFKZhns0po9"
      }
    },
    {
      "cell_type": "code",
      "source": [
        "model_1 = model(x_train, y_train_binary, 4, 2000, 0.9)\n",
        "repeat_train(model_1, x_test, y_test_binary, 5)"
      ],
      "metadata": {
        "colab": {
          "base_uri": "https://localhost:8080/"
        },
        "id": "qIpG9MYM6QE3",
        "outputId": "d30f293c-203f-4f4f-f9ea-832ca310445e"
      },
      "execution_count": 5,
      "outputs": [
        {
          "output_type": "stream",
          "name": "stdout",
          "text": [
            "Epoch 1/4\n",
            "1/1 [==============================] - 1s 765ms/step - loss: 6.0125 - accuracy: 0.6042 - val_loss: 6.0605 - val_accuracy: 0.6028\n",
            "Epoch 2/4\n",
            "1/1 [==============================] - 0s 55ms/step - loss: 5.8574 - accuracy: 0.6153 - val_loss: 5.6414 - val_accuracy: 0.6293\n",
            "Epoch 3/4\n",
            "1/1 [==============================] - 0s 53ms/step - loss: 5.2598 - accuracy: 0.6550 - val_loss: 5.8852 - val_accuracy: 0.6131\n",
            "Epoch 4/4\n",
            "1/1 [==============================] - 0s 54ms/step - loss: 5.6048 - accuracy: 0.6328 - val_loss: 5.5083 - val_accuracy: 0.6392\n",
            "56/56 [==============================] - 0s 1ms/step\n",
            "56/56 [==============================] - 0s 1ms/step\n",
            "56/56 [==============================] - 0s 1ms/step\n",
            "56/56 [==============================] - 0s 1ms/step\n",
            "56/56 [==============================] - 0s 1ms/step\n",
            "Accuracy:  0.6429372197309418\n",
            "Precision_1:  0.6210826210826211\n",
            "Recall_1:  0.7331838565022422\n",
            "F1-score_1:  0.6724935732647817\n",
            "Precision_0:  0.6744186046511628\n",
            "Recall_0:  0.5526905829596412\n",
            "F1-score_0:  0.607516943930992\n",
            "\n"
          ]
        }
      ]
    },
    {
      "cell_type": "markdown",
      "source": [
        "2. epochs = 20, batchsize = 2000, validation split = 0.9"
      ],
      "metadata": {
        "id": "37eMqZ3B09EG"
      }
    },
    {
      "cell_type": "code",
      "source": [
        "model_2 = model(x_train, y_train_binary, 20, 2000, 0.9)\n",
        "repeat_train(model_2, x_test, y_test_binary, 5)"
      ],
      "metadata": {
        "colab": {
          "base_uri": "https://localhost:8080/"
        },
        "id": "jaxxHb5kBNkp",
        "outputId": "2ab2bb77-ae46-40f7-d038-6999ffab944a"
      },
      "execution_count": 6,
      "outputs": [
        {
          "output_type": "stream",
          "name": "stdout",
          "text": [
            "Epoch 1/20\n",
            "1/1 [==============================] - 1s 1s/step - loss: 8.0401 - accuracy: 0.4769 - val_loss: 7.6334 - val_accuracy: 0.5017\n",
            "Epoch 2/20\n",
            "1/1 [==============================] - 0s 76ms/step - loss: 7.2145 - accuracy: 0.5277 - val_loss: 7.4305 - val_accuracy: 0.5151\n",
            "Epoch 3/20\n",
            "1/1 [==============================] - 0s 111ms/step - loss: 7.0431 - accuracy: 0.5406 - val_loss: 7.5543 - val_accuracy: 0.5080\n",
            "Epoch 4/20\n",
            "1/1 [==============================] - 0s 110ms/step - loss: 7.3444 - accuracy: 0.5212 - val_loss: 7.5168 - val_accuracy: 0.5108\n",
            "Epoch 5/20\n",
            "1/1 [==============================] - 0s 112ms/step - loss: 7.3155 - accuracy: 0.5231 - val_loss: 7.3583 - val_accuracy: 0.5201\n",
            "Epoch 6/20\n",
            "1/1 [==============================] - 0s 103ms/step - loss: 7.0314 - accuracy: 0.5415 - val_loss: 7.4944 - val_accuracy: 0.5118\n",
            "Epoch 7/20\n",
            "1/1 [==============================] - 0s 115ms/step - loss: 7.2484 - accuracy: 0.5268 - val_loss: 7.0564 - val_accuracy: 0.5399\n",
            "Epoch 8/20\n",
            "1/1 [==============================] - 0s 118ms/step - loss: 6.7135 - accuracy: 0.5609 - val_loss: 6.9053 - val_accuracy: 0.5496\n",
            "Epoch 9/20\n",
            "1/1 [==============================] - 0s 117ms/step - loss: 6.5951 - accuracy: 0.5710 - val_loss: 6.9053 - val_accuracy: 0.5496\n",
            "Epoch 10/20\n",
            "1/1 [==============================] - 0s 127ms/step - loss: 6.5951 - accuracy: 0.5710 - val_loss: 6.9053 - val_accuracy: 0.5496\n",
            "Epoch 11/20\n",
            "1/1 [==============================] - 0s 84ms/step - loss: 6.5951 - accuracy: 0.5710 - val_loss: 6.9053 - val_accuracy: 0.5496\n",
            "Epoch 12/20\n",
            "1/1 [==============================] - 0s 217ms/step - loss: 6.5951 - accuracy: 0.5710 - val_loss: 6.9053 - val_accuracy: 0.5496\n",
            "Epoch 13/20\n",
            "1/1 [==============================] - 0s 155ms/step - loss: 6.5951 - accuracy: 0.5710 - val_loss: 6.9053 - val_accuracy: 0.5496\n",
            "Epoch 14/20\n",
            "1/1 [==============================] - 0s 170ms/step - loss: 6.5951 - accuracy: 0.5710 - val_loss: 6.9053 - val_accuracy: 0.5496\n",
            "Epoch 15/20\n",
            "1/1 [==============================] - 0s 164ms/step - loss: 6.5951 - accuracy: 0.5710 - val_loss: 6.9053 - val_accuracy: 0.5496\n",
            "Epoch 16/20\n",
            "1/1 [==============================] - 0s 179ms/step - loss: 6.5951 - accuracy: 0.5710 - val_loss: 6.9053 - val_accuracy: 0.5496\n",
            "Epoch 17/20\n",
            "1/1 [==============================] - 0s 113ms/step - loss: 6.5951 - accuracy: 0.5710 - val_loss: 6.9053 - val_accuracy: 0.5496\n",
            "Epoch 18/20\n",
            "1/1 [==============================] - 0s 128ms/step - loss: 6.5951 - accuracy: 0.5710 - val_loss: 6.9053 - val_accuracy: 0.5496\n",
            "Epoch 19/20\n",
            "1/1 [==============================] - 0s 92ms/step - loss: 6.5951 - accuracy: 0.5710 - val_loss: 6.9053 - val_accuracy: 0.5496\n",
            "Epoch 20/20\n",
            "1/1 [==============================] - 0s 139ms/step - loss: 6.5951 - accuracy: 0.5710 - val_loss: 6.9053 - val_accuracy: 0.5496\n",
            "56/56 [==============================] - 1s 6ms/step\n",
            "56/56 [==============================] - 1s 8ms/step\n",
            "56/56 [==============================] - 0s 4ms/step\n",
            "56/56 [==============================] - 0s 3ms/step\n",
            "56/56 [==============================] - 0s 1ms/step\n",
            "Accuracy:  0.5498878923766816\n",
            "Precision_1:  0.576068376068376\n",
            "Recall_1:  0.3778026905829596\n",
            "F1-score_1:  0.4563303994583615\n",
            "Precision_0:  0.5371142618849041\n",
            "Recall_0:  0.7219730941704036\n",
            "F1-score_0:  0.615973218555715\n",
            "\n"
          ]
        }
      ]
    },
    {
      "cell_type": "markdown",
      "source": [
        "3. epochs = 4, batchsize = 2, validation split = 0.9"
      ],
      "metadata": {
        "id": "d2InVjtM1Dj7"
      }
    },
    {
      "cell_type": "code",
      "source": [
        "model_3 = model(x_train, y_train_binary, 4, 2, 0.9)\n",
        "repeat_train(model_3, x_test, y_test_binary, 5)"
      ],
      "metadata": {
        "colab": {
          "base_uri": "https://localhost:8080/"
        },
        "id": "5L_x6-DQN13e",
        "outputId": "4099c037-40d9-4cb7-8767-06e668515057"
      },
      "execution_count": 8,
      "outputs": [
        {
          "output_type": "stream",
          "name": "stdout",
          "text": [
            "Epoch 1/4\n",
            "542/542 [==============================] - 12s 21ms/step - loss: 6.6462 - accuracy: 0.5646 - val_loss: 7.0836 - val_accuracy: 0.5349\n",
            "Epoch 2/4\n",
            "542/542 [==============================] - 11s 20ms/step - loss: 6.6462 - accuracy: 0.5646 - val_loss: 7.0836 - val_accuracy: 0.5349\n",
            "Epoch 3/4\n",
            "542/542 [==============================] - 6s 11ms/step - loss: 6.6462 - accuracy: 0.5646 - val_loss: 7.0836 - val_accuracy: 0.5349\n",
            "Epoch 4/4\n",
            "542/542 [==============================] - 11s 21ms/step - loss: 6.6462 - accuracy: 0.5646 - val_loss: 7.0836 - val_accuracy: 0.5349\n",
            "56/56 [==============================] - 0s 1ms/step\n",
            "56/56 [==============================] - 0s 2ms/step\n",
            "56/56 [==============================] - 0s 2ms/step\n",
            "56/56 [==============================] - 0s 3ms/step\n",
            "56/56 [==============================] - 0s 2ms/step\n",
            "Accuracy:  0.5442825112107623\n",
            "Precision_1:  0.5256327060350422\n",
            "Recall_1:  0.9080717488789236\n",
            "F1-score_1:  0.6658446362515413\n",
            "Precision_0:  0.6625514403292181\n",
            "Recall_0:  0.1804932735426009\n",
            "F1-score_0:  0.28370044052863436\n",
            "\n"
          ]
        }
      ]
    },
    {
      "cell_type": "markdown",
      "source": [
        "4. epochs = 4, batchsize = 2000, validation split = 0.01"
      ],
      "metadata": {
        "id": "4UeMqzxK1Hwt"
      }
    },
    {
      "cell_type": "code",
      "source": [
        "model_4 = model(x_train, y_train_binary, 4, 2000, 0.01)\n",
        "repeat_train(model_4, x_test, y_test_binary, 5)"
      ],
      "metadata": {
        "colab": {
          "base_uri": "https://localhost:8080/"
        },
        "id": "mBmYDvJqONAh",
        "outputId": "fe0effef-ee87-44fd-b6aa-797bb888dcb0"
      },
      "execution_count": 9,
      "outputs": [
        {
          "output_type": "stream",
          "name": "stdout",
          "text": [
            "Epoch 1/4\n",
            "6/6 [==============================] - 1s 48ms/step - loss: 7.7695 - accuracy: 0.4934 - val_loss: 5.3510 - val_accuracy: 0.6514\n",
            "Epoch 2/4\n",
            "6/6 [==============================] - 0s 12ms/step - loss: 6.4307 - accuracy: 0.5791 - val_loss: 4.5059 - val_accuracy: 0.7064\n",
            "Epoch 3/4\n",
            "6/6 [==============================] - 0s 11ms/step - loss: 5.9771 - accuracy: 0.6085 - val_loss: 5.0590 - val_accuracy: 0.6697\n",
            "Epoch 4/4\n",
            "6/6 [==============================] - 0s 11ms/step - loss: 5.5996 - accuracy: 0.6326 - val_loss: 3.8047 - val_accuracy: 0.7523\n",
            "56/56 [==============================] - 0s 1ms/step\n",
            "56/56 [==============================] - 0s 1ms/step\n",
            "56/56 [==============================] - 0s 1ms/step\n",
            "56/56 [==============================] - 0s 1ms/step\n",
            "56/56 [==============================] - 0s 1ms/step\n",
            "Accuracy:  0.6463004484304933\n",
            "Precision_1:  0.6845827439886846\n",
            "Recall_1:  0.5426008968609866\n",
            "F1-score_1:  0.6053783614759224\n",
            "Precision_0:  0.6211699164345403\n",
            "Recall_0:  0.75\n",
            "F1-score_0:  0.6795327577450482\n",
            "\n"
          ]
        }
      ]
    },
    {
      "cell_type": "markdown",
      "source": [
        "5. Buscar una configuración de estos hiperparámetros que optimice las métricas."
      ],
      "metadata": {
        "id": "YxsaXiiY1RWh"
      }
    },
    {
      "cell_type": "code",
      "source": [
        "model_5 = model(x_train, y_train_binary, 50, 30, 0.2)\n",
        "accuracy, precision, recall, f1_s, precision_0, recall_0, f1_s_0 = metrics(model_5, x_test, y_test_binary)\n",
        "\n",
        "print()\n",
        "print(\"Accuracy: \", accuracy)\n",
        "print(\"Precision_1: \", precision)\n",
        "print(\"Recall_1: \", recall)\n",
        "print(\"F1-score_1: \", f1_s)\n",
        "print(\"Precision_0: \", precision_0)\n",
        "print(\"Recall_0: \", recall_0)\n",
        "print(\"F1-score_0: \", f1_s_0)"
      ],
      "metadata": {
        "colab": {
          "base_uri": "https://localhost:8080/"
        },
        "id": "wsCuUu-CY8-k",
        "outputId": "8eec2deb-3f6d-4f72-9331-1e900ed3f212"
      },
      "execution_count": 32,
      "outputs": [
        {
          "output_type": "stream",
          "name": "stdout",
          "text": [
            "Epoch 1/50\n",
            "290/290 [==============================] - 3s 5ms/step - loss: 6.3369 - accuracy: 0.5838 - val_loss: 5.0244 - val_accuracy: 0.6708\n",
            "Epoch 2/50\n",
            "290/290 [==============================] - 1s 4ms/step - loss: 4.3529 - accuracy: 0.7145 - val_loss: 4.1566 - val_accuracy: 0.7261\n",
            "Epoch 3/50\n",
            "290/290 [==============================] - 2s 5ms/step - loss: 3.7469 - accuracy: 0.7538 - val_loss: 3.0578 - val_accuracy: 0.7999\n",
            "Epoch 4/50\n",
            "290/290 [==============================] - 2s 7ms/step - loss: 2.7661 - accuracy: 0.8184 - val_loss: 2.8032 - val_accuracy: 0.8165\n",
            "Epoch 5/50\n",
            "290/290 [==============================] - 1s 2ms/step - loss: 2.7993 - accuracy: 0.8163 - val_loss: 2.9836 - val_accuracy: 0.8045\n",
            "Epoch 6/50\n",
            "290/290 [==============================] - 1s 2ms/step - loss: 2.7415 - accuracy: 0.8200 - val_loss: 2.5642 - val_accuracy: 0.8322\n",
            "Epoch 7/50\n",
            "290/290 [==============================] - 1s 2ms/step - loss: 2.8493 - accuracy: 0.8143 - val_loss: 2.7086 - val_accuracy: 0.8234\n",
            "Epoch 8/50\n",
            "290/290 [==============================] - 1s 2ms/step - loss: 2.4009 - accuracy: 0.8428 - val_loss: 3.0585 - val_accuracy: 0.7985\n",
            "Epoch 9/50\n",
            "290/290 [==============================] - 1s 2ms/step - loss: 2.5086 - accuracy: 0.8358 - val_loss: 2.2567 - val_accuracy: 0.8525\n",
            "Epoch 10/50\n",
            "290/290 [==============================] - 1s 2ms/step - loss: 2.2250 - accuracy: 0.8543 - val_loss: 2.3413 - val_accuracy: 0.8469\n",
            "Epoch 11/50\n",
            "290/290 [==============================] - 1s 2ms/step - loss: 2.1169 - accuracy: 0.8608 - val_loss: 2.4676 - val_accuracy: 0.8373\n",
            "Epoch 12/50\n",
            "290/290 [==============================] - 1s 2ms/step - loss: 2.2759 - accuracy: 0.8502 - val_loss: 2.3047 - val_accuracy: 0.8488\n",
            "Epoch 13/50\n",
            "290/290 [==============================] - 1s 2ms/step - loss: 2.1609 - accuracy: 0.8588 - val_loss: 2.4053 - val_accuracy: 0.8414\n",
            "Epoch 14/50\n",
            "290/290 [==============================] - 1s 2ms/step - loss: 2.3037 - accuracy: 0.8486 - val_loss: 2.5983 - val_accuracy: 0.8294\n",
            "Epoch 15/50\n",
            "290/290 [==============================] - 1s 2ms/step - loss: 2.2011 - accuracy: 0.8555 - val_loss: 2.0990 - val_accuracy: 0.8617\n",
            "Epoch 16/50\n",
            "290/290 [==============================] - 1s 2ms/step - loss: 2.0048 - accuracy: 0.8686 - val_loss: 2.0422 - val_accuracy: 0.8668\n",
            "Epoch 17/50\n",
            "290/290 [==============================] - 1s 2ms/step - loss: 2.0182 - accuracy: 0.8679 - val_loss: 2.2486 - val_accuracy: 0.8525\n",
            "Epoch 18/50\n",
            "290/290 [==============================] - 1s 2ms/step - loss: 2.0408 - accuracy: 0.8660 - val_loss: 2.0277 - val_accuracy: 0.8672\n",
            "Epoch 19/50\n",
            "290/290 [==============================] - 1s 2ms/step - loss: 1.9633 - accuracy: 0.8712 - val_loss: 2.0996 - val_accuracy: 0.8621\n",
            "Epoch 20/50\n",
            "290/290 [==============================] - 1s 3ms/step - loss: 2.0069 - accuracy: 0.8682 - val_loss: 2.0404 - val_accuracy: 0.8668\n",
            "Epoch 21/50\n",
            "290/290 [==============================] - 1s 3ms/step - loss: 1.9796 - accuracy: 0.8704 - val_loss: 2.2866 - val_accuracy: 0.8506\n",
            "Epoch 22/50\n",
            "290/290 [==============================] - 1s 3ms/step - loss: 1.9977 - accuracy: 0.8695 - val_loss: 2.3574 - val_accuracy: 0.8460\n",
            "Epoch 23/50\n",
            "290/290 [==============================] - 1s 2ms/step - loss: 2.5080 - accuracy: 0.8362 - val_loss: 2.6236 - val_accuracy: 0.8290\n",
            "Epoch 24/50\n",
            "290/290 [==============================] - 1s 2ms/step - loss: 2.0224 - accuracy: 0.8675 - val_loss: 2.0923 - val_accuracy: 0.8631\n",
            "Epoch 25/50\n",
            "290/290 [==============================] - 1s 2ms/step - loss: 2.0005 - accuracy: 0.8694 - val_loss: 2.0458 - val_accuracy: 0.8658\n",
            "Epoch 26/50\n",
            "290/290 [==============================] - 1s 2ms/step - loss: 1.9347 - accuracy: 0.8734 - val_loss: 1.9366 - val_accuracy: 0.8728\n",
            "Epoch 27/50\n",
            "290/290 [==============================] - 1s 2ms/step - loss: 1.8139 - accuracy: 0.8805 - val_loss: 2.0414 - val_accuracy: 0.8672\n",
            "Epoch 28/50\n",
            "290/290 [==============================] - 1s 2ms/step - loss: 1.9967 - accuracy: 0.8692 - val_loss: 2.0534 - val_accuracy: 0.8654\n",
            "Epoch 29/50\n",
            "290/290 [==============================] - 1s 2ms/step - loss: 1.7802 - accuracy: 0.8837 - val_loss: 2.2488 - val_accuracy: 0.8525\n",
            "Epoch 30/50\n",
            "290/290 [==============================] - 1s 2ms/step - loss: 2.1735 - accuracy: 0.8576 - val_loss: 2.1644 - val_accuracy: 0.8575\n",
            "Epoch 31/50\n",
            "290/290 [==============================] - 1s 2ms/step - loss: 1.8384 - accuracy: 0.8796 - val_loss: 1.9251 - val_accuracy: 0.8732\n",
            "Epoch 32/50\n",
            "290/290 [==============================] - 1s 2ms/step - loss: 1.6743 - accuracy: 0.8905 - val_loss: 1.9040 - val_accuracy: 0.8755\n",
            "Epoch 33/50\n",
            "290/290 [==============================] - 1s 2ms/step - loss: 1.8774 - accuracy: 0.8772 - val_loss: 1.9693 - val_accuracy: 0.8714\n",
            "Epoch 34/50\n",
            "290/290 [==============================] - 1s 2ms/step - loss: 1.7387 - accuracy: 0.8863 - val_loss: 1.9433 - val_accuracy: 0.8732\n",
            "Epoch 35/50\n",
            "290/290 [==============================] - 1s 2ms/step - loss: 1.9237 - accuracy: 0.8736 - val_loss: 2.1140 - val_accuracy: 0.8617\n",
            "Epoch 36/50\n",
            "290/290 [==============================] - 1s 2ms/step - loss: 2.0964 - accuracy: 0.8624 - val_loss: 1.8928 - val_accuracy: 0.8760\n",
            "Epoch 37/50\n",
            "290/290 [==============================] - 1s 3ms/step - loss: 1.6900 - accuracy: 0.8895 - val_loss: 1.9076 - val_accuracy: 0.8755\n",
            "Epoch 38/50\n",
            "290/290 [==============================] - 1s 3ms/step - loss: 1.8388 - accuracy: 0.8797 - val_loss: 1.8769 - val_accuracy: 0.8774\n",
            "Epoch 39/50\n",
            "290/290 [==============================] - 1s 3ms/step - loss: 1.7173 - accuracy: 0.8876 - val_loss: 1.7451 - val_accuracy: 0.8857\n",
            "Epoch 40/50\n",
            "290/290 [==============================] - 1s 2ms/step - loss: 1.6552 - accuracy: 0.8912 - val_loss: 1.7594 - val_accuracy: 0.8838\n",
            "Epoch 41/50\n",
            "290/290 [==============================] - 1s 2ms/step - loss: 1.7035 - accuracy: 0.8884 - val_loss: 1.8256 - val_accuracy: 0.8806\n",
            "Epoch 42/50\n",
            "290/290 [==============================] - 1s 2ms/step - loss: 1.7753 - accuracy: 0.8834 - val_loss: 1.7105 - val_accuracy: 0.8875\n",
            "Epoch 43/50\n",
            "290/290 [==============================] - 1s 2ms/step - loss: 1.7186 - accuracy: 0.8872 - val_loss: 1.8436 - val_accuracy: 0.8783\n",
            "Epoch 44/50\n",
            "290/290 [==============================] - 1s 2ms/step - loss: 1.8171 - accuracy: 0.8807 - val_loss: 2.0796 - val_accuracy: 0.8635\n",
            "Epoch 45/50\n",
            "290/290 [==============================] - 1s 2ms/step - loss: 1.7037 - accuracy: 0.8880 - val_loss: 1.8214 - val_accuracy: 0.8811\n",
            "Epoch 46/50\n",
            "290/290 [==============================] - 1s 2ms/step - loss: 1.7549 - accuracy: 0.8852 - val_loss: 2.0182 - val_accuracy: 0.8681\n",
            "Epoch 47/50\n",
            "290/290 [==============================] - 1s 2ms/step - loss: 1.7594 - accuracy: 0.8847 - val_loss: 1.7960 - val_accuracy: 0.8811\n",
            "Epoch 48/50\n",
            "290/290 [==============================] - 1s 2ms/step - loss: 1.7146 - accuracy: 0.8877 - val_loss: 2.0720 - val_accuracy: 0.8645\n",
            "Epoch 49/50\n",
            "290/290 [==============================] - 1s 2ms/step - loss: 1.8444 - accuracy: 0.8793 - val_loss: 1.9991 - val_accuracy: 0.8691\n",
            "Epoch 50/50\n",
            "290/290 [==============================] - 1s 2ms/step - loss: 1.6109 - accuracy: 0.8945 - val_loss: 1.7811 - val_accuracy: 0.8838\n",
            "56/56 [==============================] - 0s 1ms/step\n",
            "\n",
            "Accuracy:  0.8884529147982063\n",
            "Precision_1:  0.8598130841121495\n",
            "Recall_1:  0.9282511210762332\n",
            "F1-score_1:  0.8927223719676551\n",
            "Precision_0:  0.9220462850182704\n",
            "Recall_0:  0.8486547085201793\n",
            "F1-score_0:  0.8838295388207822\n"
          ]
        }
      ]
    },
    {
      "cell_type": "markdown",
      "source": [
        "En general se obtuvieron buenos resultados"
      ],
      "metadata": {
        "id": "Lbl6-LwxepNd"
      }
    }
  ]
}